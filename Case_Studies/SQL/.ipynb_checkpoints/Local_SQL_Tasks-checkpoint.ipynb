{
 "cells": [
  {
   "cell_type": "code",
   "execution_count": 93,
   "id": "4c13f415",
   "metadata": {},
   "outputs": [
    {
     "name": "stdout",
     "output_type": "stream",
     "text": [
      "2.6.0\n",
      "2. Query all tasks\n",
      "('07', 'Badminton Court', 165)\n",
      "('07', 'Massage Room 1', 166)\n",
      "('07', 'Massage Room 2', 8)\n",
      "('07', 'Pool Table', 110)\n",
      "('07', 'Snooker Table', 140)\n",
      "('07', 'Squash Court', 50)\n",
      "('07', 'Table Tennis', 98)\n",
      "('07', 'Tennis Court 1', 201)\n",
      "('07', 'Tennis Court 2', 123)\n",
      "('08', 'Badminton Court', 414)\n",
      "('08', 'Massage Room 1', 316)\n",
      "('08', 'Massage Room 2', 18)\n",
      "('08', 'Pool Table', 303)\n",
      "('08', 'Snooker Table', 316)\n",
      "('08', 'Squash Court', 184)\n",
      "('08', 'Table Tennis', 296)\n",
      "('08', 'Tennis Court 1', 339)\n",
      "('08', 'Tennis Court 2', 345)\n",
      "('09', 'Badminton Court', 507)\n",
      "('09', 'Massage Room 1', 402)\n",
      "('09', 'Massage Room 2', 28)\n",
      "('09', 'Pool Table', 443)\n",
      "('09', 'Snooker Table', 404)\n",
      "('09', 'Squash Court', 184)\n",
      "('09', 'Table Tennis', 400)\n",
      "('09', 'Tennis Court 1', 417)\n",
      "('09', 'Tennis Court 2', 414)\n"
     ]
    }
   ],
   "source": [
    "import sqlite3\n",
    "from sqlite3 import Error\n",
    "\n",
    " \n",
    "def create_connection(db_file):\n",
    "    \"\"\" create a database connection to the SQLite database\n",
    "        specified by the db_file\n",
    "    :param db_file: database file\n",
    "    :return: Connection object or None\n",
    "    \"\"\"\n",
    "    conn = None\n",
    "    try:\n",
    "        conn = sqlite3.connect(db_file)\n",
    "        print(sqlite3.version)\n",
    "    except Error as e:\n",
    "        print(e)\n",
    " \n",
    "    return conn\n",
    "\n",
    " \n",
    "def select_all_tasks(conn):\n",
    "    \"\"\"\n",
    "    Query all rows in the tasks table\n",
    "    :param conn: the Connection object\n",
    "    :return:\n",
    "    \"\"\"\n",
    "    cur = conn.cursor()\n",
    "    \n",
    "    '''\n",
    "    query1 = \"\"\"\n",
    "        SELECT *\n",
    "        FROM FACILITIES\n",
    "        \"\"\"\n",
    "    '''\n",
    "    \n",
    "    cur.execute(query1)\n",
    " \n",
    "    rows = cur.fetchall()\n",
    " \n",
    "    for row in rows:\n",
    "        print(row)\n",
    "\n",
    "\n",
    "def main():\n",
    "    database = \"sqlite_db_pythonsqlite.db\"\n",
    " \n",
    "    # create a database connection\n",
    "    conn = create_connection(database)\n",
    "    with conn: \n",
    "        print(\"2. Query all tasks\")\n",
    "        select_all_tasks(conn)\n",
    " \n",
    " \n",
    "if __name__ == '__main__':\n",
    "    main()"
   ]
  },
  {
   "cell_type": "markdown",
   "id": "0db81c14",
   "metadata": {},
   "source": [
    "## QUESTIONS:"
   ]
  },
  {
   "cell_type": "markdown",
   "id": "25f8408f",
   "metadata": {},
   "source": [
    "Q10: Produce a list of facilities with a total revenue less than 1000.\n",
    "The output of facility name and total revenue, sorted by revenue. Remember\n",
    "that there's a different cost for guests and members!"
   ]
  },
  {
   "cell_type": "code",
   "execution_count": 51,
   "id": "b3c92ad5",
   "metadata": {},
   "outputs": [],
   "source": [
    "query1 = '''     \n",
    "\n",
    "SELECT\n",
    "  f.name as Facility,\n",
    "  SUM((membercost * slots) + (guestcost * slots)) AS 'Total revenue'\n",
    "FROM\n",
    "    Facilities as f\n",
    "inner JOIN\n",
    "    Bookings as b\n",
    "\t\tusing (facid)\n",
    "Group By\n",
    "\tFacility\n",
    "ORDER BY\n",
    "    'Total revenue', Facility DESC;\n",
    "'''            "
   ]
  },
  {
   "cell_type": "markdown",
   "id": "860a387b",
   "metadata": {},
   "source": [
    "/* Q11: Produce a report of members and who recommended them in alphabetic surname,firstname order */"
   ]
  },
  {
   "cell_type": "code",
   "execution_count": 63,
   "id": "e0ba39d1",
   "metadata": {},
   "outputs": [],
   "source": [
    "query1 = '''     \n",
    "\n",
    "SELECT DISTINCT\n",
    "  m.surname as 'Last name',\n",
    "  m.firstname as 'First name', \n",
    "  m2.surname as Recommended,\n",
    "  m2.firstname\n",
    "FROM\n",
    "    Facilities as f\n",
    "LEFT JOIN\n",
    "    Bookings as b\n",
    "    using (facid)\n",
    "\n",
    "LEFT JOIN\n",
    "    Members as m\n",
    "    using (memid)\n",
    "\n",
    "LEFT JOIN Members m2\n",
    "\ton\n",
    "\t\tm.recommendedby = m2.memid\n",
    "WHERE \n",
    "        m.recommendedby NOT LIKE (\"\")\n",
    "    AND\n",
    "        m.surname NOT LIKE('%GUEST')\n",
    "ORDER BY\n",
    "    Recommended;\n",
    "'''"
   ]
  },
  {
   "cell_type": "markdown",
   "id": "71627b26",
   "metadata": {},
   "source": [
    "/* Q12: Find the facilities with their usage by member, but not guests */"
   ]
  },
  {
   "cell_type": "code",
   "execution_count": 74,
   "id": "546c3b3c",
   "metadata": {},
   "outputs": [],
   "source": [
    "query1 = ''' \n",
    "SELECT \n",
    "    name,\n",
    "    surname || ', ' || firstname as member,\n",
    "    count(slots) AS 'Usage by member/slots'\n",
    "FROM\n",
    "    Facilities f\n",
    "LEFT JOIN\n",
    "    Bookings as b\n",
    "    USING\n",
    "        (facid)\n",
    "LEFT JOIN\n",
    "    Members as m\n",
    "    USING\n",
    "        (memid)\n",
    "WHERE\n",
    "        member NOT LIKE (\"%GUEST%\")\n",
    "    AND \n",
    "        memid <> 0\n",
    "GROUP BY\n",
    "    member\n",
    "ORDER BY\n",
    "    'Usage by member/slots' DESC;\n",
    "\n",
    "'''"
   ]
  },
  {
   "cell_type": "markdown",
   "id": "3bf05e59",
   "metadata": {},
   "source": [
    "/* Q13: Find the facilities usage by month, but not guests */"
   ]
  },
  {
   "cell_type": "code",
   "execution_count": 92,
   "id": "a4d01593",
   "metadata": {},
   "outputs": [],
   "source": [
    "query1 = '''     \n",
    "\n",
    "SELECT \n",
    "SUBSTR(starttime,6,2) AS month,\n",
    "    name,\n",
    "    SUM(slots) AS totalslots\n",
    "FROM\n",
    "    Facilities\n",
    "LEFT JOIN\n",
    "    Bookings as b\n",
    "    using\n",
    "        (facid)\n",
    "LEFT JOIN\n",
    "    Members as m\n",
    "    using\n",
    "        (memid)\n",
    "WHERE\n",
    "        memid <> 0\n",
    "GROUP BY\n",
    "    name, month\n",
    "ORDER BY\n",
    "    month;\n",
    "    \n",
    "'''"
   ]
  }
 ],
 "metadata": {
  "kernelspec": {
   "display_name": "Python 3 (ipykernel)",
   "language": "python",
   "name": "python3"
  },
  "language_info": {
   "codemirror_mode": {
    "name": "ipython",
    "version": 3
   },
   "file_extension": ".py",
   "mimetype": "text/x-python",
   "name": "python",
   "nbconvert_exporter": "python",
   "pygments_lexer": "ipython3",
   "version": "3.9.7"
  }
 },
 "nbformat": 4,
 "nbformat_minor": 5
}
