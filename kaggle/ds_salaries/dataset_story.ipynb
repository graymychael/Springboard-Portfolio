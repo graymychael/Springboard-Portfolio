{
 "cells": [
  {
   "cell_type": "markdown",
   "id": "9c698e5b-902f-4524-bd21-2d9ccf2bf1c1",
   "metadata": {},
   "source": [
    "# Dataset Story Telling"
   ]
  },
  {
   "cell_type": "markdown",
   "id": "f85bfb42-da7f-4cbe-8c13-08ad561f781d",
   "metadata": {},
   "source": [
    "## Overview of data science problem"
   ]
  },
  {
   "cell_type": "markdown",
   "id": "3be9d8f5-bba9-4a30-8892-5862de0eaeff",
   "metadata": {},
   "source": [
    "The purpose of this data science project is to come up with a predictive salary model for data scientist and related roles.\n",
    "\n",
    "Using historical salaries of data scientist for a business case, I can use a dataset to understand the salary and other features related to these type of roles and also help others make future predictions in a more reliable way than just using the historical salary. There is also a huge absence of knowing what the fair salary for a data scientist to the public is. In particular, which roles who are most likely to receive more.\n",
    "\n",
    "This project aims to build a predictive model for salary based on a number of features, or properties of industry standard-quality characteristics. This model will be used to provide guidance for salary and future value hire plans."
   ]
  },
  {
   "cell_type": "markdown",
   "id": "d53a04e9-715a-47bb-aa20-99534760fdfa",
   "metadata": {},
   "source": [
    "### Audience: Executive"
   ]
  },
  {
   "cell_type": "markdown",
   "id": "295e3a0b-af31-452f-994f-8b8f7676f5df",
   "metadata": {},
   "source": [
    "**Goal:**\n",
    "* Ask questions\n",
    "* Explore data\n",
    "* Investigate trends\n",
    "* Review the resulting visualizations and conclusions"
   ]
  },
  {
   "cell_type": "markdown",
   "id": "89e74815-0f3e-44a6-9b07-296eb9315c6e",
   "metadata": {},
   "source": [
    "### Objectives\n",
    "There are fundamental questions that should align with objectives for the dataset before moving on.\n",
    "\n",
    "* Do I have the data I need to tackle the data science problem?\n",
    "* Have I identified the required target value?\n",
    "* Do I have potentially useful features?\n",
    "* Do I have any fundamental issues with the data?"
   ]
  },
  {
   "cell_type": "markdown",
   "id": "f934e70d-6aca-4625-b496-06ba314e3a64",
   "metadata": {},
   "source": [
    "### Imports"
   ]
  },
  {
   "cell_type": "code",
   "execution_count": null,
   "id": "dc98553c-e066-4340-80a8-9feb8ff912ed",
   "metadata": {},
   "outputs": [],
   "source": [
    "import pandas as pd\n",
    "import numpy as np\n",
    "import matplotlib.pyplot as plt"
   ]
  },
  {
   "cell_type": "markdown",
   "id": "9792e65e-0b79-49fe-a0c3-08d7cbdbdb10",
   "metadata": {},
   "source": [
    "### Load salary dataset"
   ]
  },
  {
   "cell_type": "code",
   "execution_count": 14,
   "id": "e70b13cb-0ccf-45b0-a015-a93c1f954a40",
   "metadata": {},
   "outputs": [
    {
     "data": {
      "text/html": [
       "<div>\n",
       "<style scoped>\n",
       "    .dataframe tbody tr th:only-of-type {\n",
       "        vertical-align: middle;\n",
       "    }\n",
       "\n",
       "    .dataframe tbody tr th {\n",
       "        vertical-align: top;\n",
       "    }\n",
       "\n",
       "    .dataframe thead th {\n",
       "        text-align: right;\n",
       "    }\n",
       "</style>\n",
       "<table border=\"1\" class=\"dataframe\">\n",
       "  <thead>\n",
       "    <tr style=\"text-align: right;\">\n",
       "      <th></th>\n",
       "      <th>work_year</th>\n",
       "      <th>experience_level</th>\n",
       "      <th>employment_type</th>\n",
       "      <th>job_title</th>\n",
       "      <th>salary</th>\n",
       "      <th>salary_currency</th>\n",
       "      <th>salary_in_usd</th>\n",
       "      <th>employee_residence</th>\n",
       "      <th>remote_ratio</th>\n",
       "      <th>company_location</th>\n",
       "      <th>company_size</th>\n",
       "    </tr>\n",
       "  </thead>\n",
       "  <tbody>\n",
       "    <tr>\n",
       "      <th>0</th>\n",
       "      <td>2020</td>\n",
       "      <td>MI</td>\n",
       "      <td>FT</td>\n",
       "      <td>Data Scientist</td>\n",
       "      <td>70000</td>\n",
       "      <td>EUR</td>\n",
       "      <td>79833</td>\n",
       "      <td>DE</td>\n",
       "      <td>0</td>\n",
       "      <td>DE</td>\n",
       "      <td>L</td>\n",
       "    </tr>\n",
       "    <tr>\n",
       "      <th>1</th>\n",
       "      <td>2020</td>\n",
       "      <td>SE</td>\n",
       "      <td>FT</td>\n",
       "      <td>Machine Learning Scientist</td>\n",
       "      <td>260000</td>\n",
       "      <td>USD</td>\n",
       "      <td>260000</td>\n",
       "      <td>JP</td>\n",
       "      <td>0</td>\n",
       "      <td>JP</td>\n",
       "      <td>S</td>\n",
       "    </tr>\n",
       "    <tr>\n",
       "      <th>2</th>\n",
       "      <td>2020</td>\n",
       "      <td>SE</td>\n",
       "      <td>FT</td>\n",
       "      <td>Big Data Engineer</td>\n",
       "      <td>85000</td>\n",
       "      <td>GBP</td>\n",
       "      <td>109024</td>\n",
       "      <td>GB</td>\n",
       "      <td>50</td>\n",
       "      <td>GB</td>\n",
       "      <td>M</td>\n",
       "    </tr>\n",
       "    <tr>\n",
       "      <th>3</th>\n",
       "      <td>2020</td>\n",
       "      <td>MI</td>\n",
       "      <td>FT</td>\n",
       "      <td>Product Data Analyst</td>\n",
       "      <td>20000</td>\n",
       "      <td>USD</td>\n",
       "      <td>20000</td>\n",
       "      <td>HN</td>\n",
       "      <td>0</td>\n",
       "      <td>HN</td>\n",
       "      <td>S</td>\n",
       "    </tr>\n",
       "    <tr>\n",
       "      <th>4</th>\n",
       "      <td>2020</td>\n",
       "      <td>SE</td>\n",
       "      <td>FT</td>\n",
       "      <td>Machine Learning Engineer</td>\n",
       "      <td>150000</td>\n",
       "      <td>USD</td>\n",
       "      <td>150000</td>\n",
       "      <td>US</td>\n",
       "      <td>50</td>\n",
       "      <td>US</td>\n",
       "      <td>L</td>\n",
       "    </tr>\n",
       "  </tbody>\n",
       "</table>\n",
       "</div>"
      ],
      "text/plain": [
       "   work_year experience_level employment_type                   job_title  \\\n",
       "0       2020               MI              FT              Data Scientist   \n",
       "1       2020               SE              FT  Machine Learning Scientist   \n",
       "2       2020               SE              FT           Big Data Engineer   \n",
       "3       2020               MI              FT        Product Data Analyst   \n",
       "4       2020               SE              FT   Machine Learning Engineer   \n",
       "\n",
       "   salary salary_currency  salary_in_usd employee_residence  remote_ratio  \\\n",
       "0   70000             EUR          79833                 DE             0   \n",
       "1  260000             USD         260000                 JP             0   \n",
       "2   85000             GBP         109024                 GB            50   \n",
       "3   20000             USD          20000                 HN             0   \n",
       "4  150000             USD         150000                 US            50   \n",
       "\n",
       "  company_location company_size  \n",
       "0               DE            L  \n",
       "1               JP            S  \n",
       "2               GB            M  \n",
       "3               HN            S  \n",
       "4               US            L  "
      ]
     },
     "execution_count": 14,
     "metadata": {},
     "output_type": "execute_result"
    }
   ],
   "source": [
    "path = 'ds_salaries.csv'\n",
    "df = pd.read_csv(path)\n",
    "df = df.iloc[:,1:]\n",
    "df.head()"
   ]
  },
  {
   "cell_type": "code",
   "execution_count": 15,
   "id": "d66eee90-ce1b-4bab-9efb-03c0dc8fea04",
   "metadata": {},
   "outputs": [
    {
     "data": {
      "text/plain": [
       "(607, 11)"
      ]
     },
     "execution_count": 15,
     "metadata": {},
     "output_type": "execute_result"
    }
   ],
   "source": [
    "# First we want to check the rows and columns\n",
    "df.shape"
   ]
  },
  {
   "cell_type": "code",
   "execution_count": 16,
   "id": "f8c7e267-7ef7-4a66-9268-273e6cee2093",
   "metadata": {},
   "outputs": [
    {
     "name": "stdout",
     "output_type": "stream",
     "text": [
      "<class 'pandas.core.frame.DataFrame'>\n",
      "RangeIndex: 607 entries, 0 to 606\n",
      "Data columns (total 11 columns):\n",
      " #   Column              Non-Null Count  Dtype \n",
      "---  ------              --------------  ----- \n",
      " 0   work_year           607 non-null    int64 \n",
      " 1   experience_level    607 non-null    object\n",
      " 2   employment_type     607 non-null    object\n",
      " 3   job_title           607 non-null    object\n",
      " 4   salary              607 non-null    int64 \n",
      " 5   salary_currency     607 non-null    object\n",
      " 6   salary_in_usd       607 non-null    int64 \n",
      " 7   employee_residence  607 non-null    object\n",
      " 8   remote_ratio        607 non-null    int64 \n",
      " 9   company_location    607 non-null    object\n",
      " 10  company_size        607 non-null    object\n",
      "dtypes: int64(4), object(7)\n",
      "memory usage: 52.3+ KB\n"
     ]
    }
   ],
   "source": [
    "# Now we can check the data tupes of our columns\n",
    "df.info()"
   ]
  },
  {
   "cell_type": "markdown",
   "id": "290ea0f5-13ee-4f2f-9b0f-41c858fc0dcc",
   "metadata": {},
   "source": [
    "\"salary\" is the variable we are looking for as well as salary_in_usd. The salary per observation is what is being modeled. The other columns are potential features. The data also shows that some column types are objects while the rest are integer type."
   ]
  },
  {
   "cell_type": "code",
   "execution_count": 17,
   "id": "cb9e1acd-4949-46f8-805a-ce7cd2609aaa",
   "metadata": {},
   "outputs": [
    {
     "name": "stdout",
     "output_type": "stream",
     "text": [
      "<class 'pandas.core.frame.DataFrame'>\n",
      "RangeIndex: 607 entries, 0 to 606\n",
      "Data columns (total 11 columns):\n",
      " #   Column              Non-Null Count  Dtype         \n",
      "---  ------              --------------  -----         \n",
      " 0   work_year           607 non-null    datetime64[ns]\n",
      " 1   experience_level    607 non-null    object        \n",
      " 2   employment_type     607 non-null    object        \n",
      " 3   job_title           607 non-null    object        \n",
      " 4   salary              607 non-null    int64         \n",
      " 5   salary_currency     607 non-null    object        \n",
      " 6   salary_in_usd       607 non-null    int64         \n",
      " 7   employee_residence  607 non-null    object        \n",
      " 8   remote_ratio        607 non-null    int64         \n",
      " 9   company_location    607 non-null    object        \n",
      " 10  company_size        607 non-null    object        \n",
      "dtypes: datetime64[ns](1), int64(3), object(7)\n",
      "memory usage: 52.3+ KB\n"
     ]
    }
   ],
   "source": [
    "df['work_year'] = pd.to_datetime(df['work_year'], format='%Y')\n",
    "df.info()"
   ]
  },
  {
   "cell_type": "code",
   "execution_count": 18,
   "id": "af502a36-4e46-4aab-994e-fc53c0a8a424",
   "metadata": {},
   "outputs": [
    {
     "data": {
      "text/plain": [
       "0     2020-01-01\n",
       "1     2020-01-01\n",
       "2     2020-01-01\n",
       "3     2020-01-01\n",
       "4     2020-01-01\n",
       "         ...    \n",
       "602   2022-01-01\n",
       "603   2022-01-01\n",
       "604   2022-01-01\n",
       "605   2022-01-01\n",
       "606   2022-01-01\n",
       "Name: work_year, Length: 607, dtype: datetime64[ns]"
      ]
     },
     "execution_count": 18,
     "metadata": {},
     "output_type": "execute_result"
    }
   ],
   "source": [
    "df.work_year"
   ]
  },
  {
   "cell_type": "code",
   "execution_count": 19,
   "id": "a41257ca-778d-4724-b259-6e025b6d16ba",
   "metadata": {},
   "outputs": [
    {
     "data": {
      "text/html": [
       "<div>\n",
       "<style scoped>\n",
       "    .dataframe tbody tr th:only-of-type {\n",
       "        vertical-align: middle;\n",
       "    }\n",
       "\n",
       "    .dataframe tbody tr th {\n",
       "        vertical-align: top;\n",
       "    }\n",
       "\n",
       "    .dataframe thead th {\n",
       "        text-align: right;\n",
       "    }\n",
       "</style>\n",
       "<table border=\"1\" class=\"dataframe\">\n",
       "  <thead>\n",
       "    <tr style=\"text-align: right;\">\n",
       "      <th></th>\n",
       "      <th>salary</th>\n",
       "      <th>salary_in_usd</th>\n",
       "      <th>remote_ratio</th>\n",
       "    </tr>\n",
       "  </thead>\n",
       "  <tbody>\n",
       "    <tr>\n",
       "      <th>count</th>\n",
       "      <td>6.070000e+02</td>\n",
       "      <td>607.000000</td>\n",
       "      <td>607.00000</td>\n",
       "    </tr>\n",
       "    <tr>\n",
       "      <th>mean</th>\n",
       "      <td>3.240001e+05</td>\n",
       "      <td>112297.869852</td>\n",
       "      <td>70.92257</td>\n",
       "    </tr>\n",
       "    <tr>\n",
       "      <th>std</th>\n",
       "      <td>1.544357e+06</td>\n",
       "      <td>70957.259411</td>\n",
       "      <td>40.70913</td>\n",
       "    </tr>\n",
       "    <tr>\n",
       "      <th>min</th>\n",
       "      <td>4.000000e+03</td>\n",
       "      <td>2859.000000</td>\n",
       "      <td>0.00000</td>\n",
       "    </tr>\n",
       "    <tr>\n",
       "      <th>25%</th>\n",
       "      <td>7.000000e+04</td>\n",
       "      <td>62726.000000</td>\n",
       "      <td>50.00000</td>\n",
       "    </tr>\n",
       "    <tr>\n",
       "      <th>50%</th>\n",
       "      <td>1.150000e+05</td>\n",
       "      <td>101570.000000</td>\n",
       "      <td>100.00000</td>\n",
       "    </tr>\n",
       "    <tr>\n",
       "      <th>75%</th>\n",
       "      <td>1.650000e+05</td>\n",
       "      <td>150000.000000</td>\n",
       "      <td>100.00000</td>\n",
       "    </tr>\n",
       "    <tr>\n",
       "      <th>max</th>\n",
       "      <td>3.040000e+07</td>\n",
       "      <td>600000.000000</td>\n",
       "      <td>100.00000</td>\n",
       "    </tr>\n",
       "  </tbody>\n",
       "</table>\n",
       "</div>"
      ],
      "text/plain": [
       "             salary  salary_in_usd  remote_ratio\n",
       "count  6.070000e+02     607.000000     607.00000\n",
       "mean   3.240001e+05  112297.869852      70.92257\n",
       "std    1.544357e+06   70957.259411      40.70913\n",
       "min    4.000000e+03    2859.000000       0.00000\n",
       "25%    7.000000e+04   62726.000000      50.00000\n",
       "50%    1.150000e+05  101570.000000     100.00000\n",
       "75%    1.650000e+05  150000.000000     100.00000\n",
       "max    3.040000e+07  600000.000000     100.00000"
      ]
     },
     "execution_count": 19,
     "metadata": {},
     "output_type": "execute_result"
    }
   ],
   "source": [
    "df.describe()"
   ]
  },
  {
   "cell_type": "markdown",
   "id": "0198003b-3358-4c75-9f29-7d0ee770d13f",
   "metadata": {},
   "source": [
    "Here we can see that the four numerical variables are different scales which makes sense."
   ]
  },
  {
   "cell_type": "code",
   "execution_count": 20,
   "id": "c7e4bf5b-de3b-4e6c-831b-d82f549150f1",
   "metadata": {},
   "outputs": [
    {
     "data": {
      "text/plain": [
       "work_year             False\n",
       "experience_level      False\n",
       "employment_type       False\n",
       "job_title             False\n",
       "salary                False\n",
       "salary_currency       False\n",
       "salary_in_usd         False\n",
       "employee_residence    False\n",
       "remote_ratio          False\n",
       "company_location      False\n",
       "company_size          False\n",
       "dtype: bool"
      ]
     },
     "execution_count": 20,
     "metadata": {},
     "output_type": "execute_result"
    }
   ],
   "source": [
    "# Double check for na values\n",
    "df.isna().any()"
   ]
  }
 ],
 "metadata": {
  "kernelspec": {
   "display_name": "Python 3 (ipykernel)",
   "language": "python",
   "name": "python3"
  },
  "language_info": {
   "codemirror_mode": {
    "name": "ipython",
    "version": 3
   },
   "file_extension": ".py",
   "mimetype": "text/x-python",
   "name": "python",
   "nbconvert_exporter": "python",
   "pygments_lexer": "ipython3",
   "version": "3.9.7"
  }
 },
 "nbformat": 4,
 "nbformat_minor": 5
}
