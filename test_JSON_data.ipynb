{
 "cells": [
  {
   "cell_type": "markdown",
   "id": "fe1a34e0-5b71-4ca2-852d-f26e20a9d026",
   "metadata": {},
   "source": [
    "2. Use base python libraries (not pandas) to get the following insights\n",
    " -> Item name with top TOTAL sales \n",
    " -> Item name with least TOTAL sales \n",
    " -> Item name with the most units sold \n",
    "\n",
    "Base Python libraries only (no 3rd party libraries e.g: numpy, pandas)\n",
    "\n",
    "For ease of understanding each sale is a dictionary with 1 item being sold\n",
    "\n",
    "#{'item': 'Stella Extra Strong', 'price': '$23.45'} - qty 1"
   ]
  },
  {
   "cell_type": "markdown",
   "id": "6b4af815-f700-4642-88ac-adb2ba995963",
   "metadata": {
    "tags": []
   },
   "source": [
    "# Test JSON Data\n",
    "data = [{'item': 'Stella Extra Strong', 'price': '$23.45'},\n",
    "{'item': 'Fosters Mild', 'price': '$12.99'},\n",
    "{'item': 'Heineken', 'price': '$29.45'},\n",
    "{'item': 'Stella Extra Strong', 'price': '$23.45'},\n",
    "{'item': 'Stella Extra Strong', 'price': '$23.45'},\n",
    "{'item': 'Fosters Mild', 'price': '$12.99'}]\n",
    "\n",
    "# Dictionary to store items\n",
    "items = {}\n",
    "\n",
    "# For each entry in data\n",
    "for entry in data:\n",
    "\n",
    "\t# Add item in dictionary if not present\n",
    "\tif(entry['item'] not in items.keys()):\n",
    "\t\titems[entry['item']] = [entry['price'],1]\n",
    "\n",
    "\t# If present, update count\n",
    "\telse:\n",
    "\t\tsales = items[entry['item']][1]\n",
    "\t\titems[entry['item']] = [entry['price'],sales+1]\n",
    "\n",
    "# Calculate total sales for each item\n",
    "for key in items:\n",
    "\tprice = float(items[key][0][1:])\n",
    "\tunits = items[key][1]\n",
    "\ttotal = price*units\n",
    "\n",
    "\t# Append sales in dictionary\n",
    "\titems[key].append(total)\n",
    "\n",
    "# Sort by total-sales (descending)\n",
    "items_sort = sorted(items.keys(),key=lambda val: items[val][2],reverse=True)\n",
    "\n",
    "# Print top and least sales\n",
    "print(\"\\nTop Total Sales: {}\".format(items_sort[0]))\n",
    "print(\"Least Total Sales: {}\".format(items_sort[-1]))\n",
    "\n",
    "# Sort by units sold (descending)\n",
    "items_sort = sorted(items.keys(),key=lambda val: items[val][1],reverse=True)\n",
    "\n",
    "# Print Most units sold\n",
    "print(\"Most Units Sold: {}\".format(items_sort[0]))\n"
   ]
  },
  {
   "cell_type": "code",
   "execution_count": 1,
   "id": "3165ab1b-48bb-4215-b56d-3809ff0da373",
   "metadata": {},
   "outputs": [],
   "source": [
    "import json\n",
    "\n",
    "#with open('pos_data.json') as file:\n",
    " #   file = json.load(file)\n",
    "\n",
    "data = [{'item': 'Stella Extra Strong', 'price': '$23.45'},\n",
    "{'item': 'Fosters Mild', 'price': '$12.99'},\n",
    "{'item': 'Heineken', 'price': '$29.45'},\n",
    "{'item': 'Stella Extra Strong', 'price': '$23.45'},\n",
    "{'item': 'Stella Extra Strong', 'price': '$23.45'},\n",
    "{'item': 'Fosters Mild', 'price': '$12.99'}]"
   ]
  },
  {
   "cell_type": "code",
   "execution_count": 2,
   "id": "0aa161f4-6c20-49d5-adc3-b6c7bac74779",
   "metadata": {},
   "outputs": [],
   "source": [
    "# Create items sales function\n",
    "def item_sales(data):\n",
    "    \n",
    "    # Dictionary to store items\n",
    "    global items\n",
    "    items = {}\n",
    "\n",
    "    # For each entry in data\n",
    "    for entry in data:\n",
    "\n",
    "        # Add item in dictionary if not present\n",
    "        if(entry['item'] not in items.keys()):\n",
    "            items[entry['item']] = [entry['price'],1]\n",
    "\n",
    "        # If present, update count\n",
    "        else:\n",
    "            sales = items[entry['item']][1]\n",
    "            items[entry['item']] = [entry['price'], sales + 1]\n",
    "            \n",
    "    print(items)"
   ]
  },
  {
   "cell_type": "code",
   "execution_count": 3,
   "id": "86c6e997-750f-4ae7-9e07-2e2838d423cd",
   "metadata": {},
   "outputs": [
    {
     "name": "stdout",
     "output_type": "stream",
     "text": [
      "{'Stella Extra Strong': ['$23.45', 3], 'Fosters Mild': ['$12.99', 2], 'Heineken': ['$29.45', 1]}\n"
     ]
    }
   ],
   "source": [
    "item_sales(data)"
   ]
  },
  {
   "cell_type": "code",
   "execution_count": 4,
   "id": "a8f94ca1-b127-4853-ac3a-0e78ce6e6a95",
   "metadata": {},
   "outputs": [],
   "source": [
    "# Create total sales function\n",
    "def total_sales(dictionary):\n",
    "    # Calculate total sales for each item\n",
    "    for key in items:\n",
    "        price = float(items[key][0][1:])\n",
    "        units = items[key][1]\n",
    "        total = price * units\n",
    "\n",
    "        # Append sales in dictionary\n",
    "        items[key].append(total)\n",
    "        \n",
    "    print(dictionary)"
   ]
  },
  {
   "cell_type": "code",
   "execution_count": 5,
   "id": "b5a2f59d-dd40-4aee-8a9c-5ba6f7d4346e",
   "metadata": {},
   "outputs": [
    {
     "name": "stdout",
     "output_type": "stream",
     "text": [
      "{'Stella Extra Strong': ['$23.45', 3, 70.35], 'Fosters Mild': ['$12.99', 2, 25.98], 'Heineken': ['$29.45', 1, 29.45]}\n"
     ]
    }
   ],
   "source": [
    "total_sales(items)"
   ]
  },
  {
   "cell_type": "code",
   "execution_count": 6,
   "id": "5978ab02-3f61-49d1-a655-392ab95a0f3b",
   "metadata": {},
   "outputs": [
    {
     "name": "stdout",
     "output_type": "stream",
     "text": [
      "\n",
      "Top Total Sales: Stella Extra Strong\n",
      "Least Total Sales: Fosters Mild\n"
     ]
    }
   ],
   "source": [
    "# Sort by total-sales (descending)\n",
    "items_sort = sorted(items.keys(), key=lambda val: items[val][2], reverse=True)\n",
    "\n",
    "# Print top and least sales\n",
    "print(\"\\nTop Total Sales: {}\".format(items_sort[0]))\n",
    "print(\"Least Total Sales: {}\".format(items_sort[-1]))"
   ]
  },
  {
   "cell_type": "code",
   "execution_count": 7,
   "id": "098b40a7-3512-448f-99d4-2798b1df707f",
   "metadata": {},
   "outputs": [
    {
     "name": "stdout",
     "output_type": "stream",
     "text": [
      "Most Units Sold: Stella Extra Strong\n",
      "Least Units Sold: Heineken\n"
     ]
    }
   ],
   "source": [
    "# Sort by units sold (descending)\n",
    "units_sort = sorted(items.keys(), key=lambda val: items[val][1], reverse=True)\n",
    "\n",
    "# Print most and least amount of units\n",
    "print(\"Most Units Sold: {}\".format(units_sort[0]))\n",
    "print(\"Least Units Sold: {}\".format(units_sort[-1]))"
   ]
  }
 ],
 "metadata": {
  "kernelspec": {
   "display_name": "Python 3 (ipykernel)",
   "language": "python",
   "name": "python3"
  },
  "language_info": {
   "codemirror_mode": {
    "name": "ipython",
    "version": 3
   },
   "file_extension": ".py",
   "mimetype": "text/x-python",
   "name": "python",
   "nbconvert_exporter": "python",
   "pygments_lexer": "ipython3",
   "version": "3.9.7"
  }
 },
 "nbformat": 4,
 "nbformat_minor": 5
}
