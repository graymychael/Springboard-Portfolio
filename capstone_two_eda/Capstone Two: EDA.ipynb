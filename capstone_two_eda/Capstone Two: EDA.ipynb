{
 "cells": [
  {
   "cell_type": "markdown",
   "id": "7e6e2c38",
   "metadata": {},
   "source": [
    "# Exploratory Data Analysis"
   ]
  },
  {
   "cell_type": "markdown",
   "id": "1129a13b",
   "metadata": {},
   "source": [
    "## Overview Of data science problem\n",
    "The purpose of this data science project is to come up with a pricing model for diamonds in the diamond market. \n",
    "\n",
    "Using historical prices of diamonds for a business case, I can use a dataset to understand price and other features related to diamonds and also help others make future predictions in a more reliable way than just using the historical price. There is also a huge absence of knowing what the fair value for a diamond to the public is. In particular, which diamonds we are most likely to pay more for. \n",
    "\n",
    "This project aims to build a predictive model for diamond price based on a number of features, or properties of industry standard-type diamonds. This model will be used to provide guidance for diamond pricing and future value investment plans."
   ]
  },
  {
   "cell_type": "markdown",
   "id": "2e7c8612",
   "metadata": {},
   "source": [
    "#### **Goal**: \n",
    "\n",
    "Explore the data relationships of all features and understand how the\n",
    "features compare to the response variable (target).\n",
    "\n",
    "* Build data profiles and tables\n",
    "    * Inferential statistics\n",
    "    \n",
    "* Explore data relationships\n",
    "    * Data visualization\n",
    "    \n",
    "* Feature Selection and Engineering"
   ]
  },
  {
   "cell_type": "markdown",
   "id": "4fa75686",
   "metadata": {},
   "source": [
    "The first question we want to answer is the following:\n",
    "\n",
    "    *What is the average price of almost 54,000 diamonds?*"
   ]
  },
  {
   "cell_type": "markdown",
   "id": "67b330a2",
   "metadata": {},
   "source": [
    "## Importing relevant libraries"
   ]
  },
  {
   "cell_type": "code",
   "execution_count": 15,
   "id": "5ee854c7",
   "metadata": {},
   "outputs": [],
   "source": [
    "# Import necessary packages\n",
    "import numpy as np\n",
    "import pandas as pd\n",
    "import matplotlib.pyplot as plt\n",
    "import seaborn as sns\n",
    "\n",
    "# Set seaborn style \n",
    "sns.set_style('darkgrid')\n",
    "\n",
    "# Suppress future warnings\n",
    "import warnings\n",
    "warnings.simplefilter(action='ignore', category=FutureWarning)\n",
    "warnings.simplefilter(action='ignore', category=UserWarning)"
   ]
  },
  {
   "cell_type": "markdown",
   "id": "08e15736",
   "metadata": {},
   "source": [
    "## Loading raw data"
   ]
  },
  {
   "cell_type": "code",
   "execution_count": 16,
   "id": "b1fc8bb3",
   "metadata": {
    "scrolled": true
   },
   "outputs": [],
   "source": [
    "raw_data = 'Diamond Price Prediction.csv'\n",
    "data = pd.read_csv(raw_data)"
   ]
  },
  {
   "cell_type": "markdown",
   "id": "8e43a614",
   "metadata": {},
   "source": [
    "## Preprocessing"
   ]
  },
  {
   "cell_type": "code",
   "execution_count": 17,
   "id": "07908d45",
   "metadata": {},
   "outputs": [
    {
     "name": "stdout",
     "output_type": "stream",
     "text": [
      "(53940, 10)\n"
     ]
    }
   ],
   "source": [
    "# Checking rows and columns of data\n",
    "print(data.shape)"
   ]
  },
  {
   "cell_type": "code",
   "execution_count": 18,
   "id": "83b9fdfd",
   "metadata": {},
   "outputs": [
    {
     "data": {
      "text/html": [
       "<div>\n",
       "<style scoped>\n",
       "    .dataframe tbody tr th:only-of-type {\n",
       "        vertical-align: middle;\n",
       "    }\n",
       "\n",
       "    .dataframe tbody tr th {\n",
       "        vertical-align: top;\n",
       "    }\n",
       "\n",
       "    .dataframe thead th {\n",
       "        text-align: right;\n",
       "    }\n",
       "</style>\n",
       "<table border=\"1\" class=\"dataframe\">\n",
       "  <thead>\n",
       "    <tr style=\"text-align: right;\">\n",
       "      <th></th>\n",
       "      <th>Carat(Weight of Daimond)</th>\n",
       "      <th>Cut(Quality)</th>\n",
       "      <th>Color</th>\n",
       "      <th>Clarity</th>\n",
       "      <th>Depth</th>\n",
       "      <th>Table</th>\n",
       "      <th>Price(in US dollars)</th>\n",
       "      <th>X(length)</th>\n",
       "      <th>Y(width)</th>\n",
       "      <th>Z(Depth)</th>\n",
       "    </tr>\n",
       "  </thead>\n",
       "  <tbody>\n",
       "    <tr>\n",
       "      <th>0</th>\n",
       "      <td>0.23</td>\n",
       "      <td>Ideal</td>\n",
       "      <td>E</td>\n",
       "      <td>SI2</td>\n",
       "      <td>61.5</td>\n",
       "      <td>55.0</td>\n",
       "      <td>326</td>\n",
       "      <td>3.95</td>\n",
       "      <td>3.98</td>\n",
       "      <td>2.43</td>\n",
       "    </tr>\n",
       "    <tr>\n",
       "      <th>1</th>\n",
       "      <td>0.21</td>\n",
       "      <td>Premium</td>\n",
       "      <td>E</td>\n",
       "      <td>SI1</td>\n",
       "      <td>59.8</td>\n",
       "      <td>61.0</td>\n",
       "      <td>326</td>\n",
       "      <td>3.89</td>\n",
       "      <td>3.84</td>\n",
       "      <td>2.31</td>\n",
       "    </tr>\n",
       "    <tr>\n",
       "      <th>2</th>\n",
       "      <td>0.23</td>\n",
       "      <td>Good</td>\n",
       "      <td>E</td>\n",
       "      <td>VS1</td>\n",
       "      <td>56.9</td>\n",
       "      <td>65.0</td>\n",
       "      <td>327</td>\n",
       "      <td>4.05</td>\n",
       "      <td>4.07</td>\n",
       "      <td>2.31</td>\n",
       "    </tr>\n",
       "    <tr>\n",
       "      <th>3</th>\n",
       "      <td>0.29</td>\n",
       "      <td>Premium</td>\n",
       "      <td>I</td>\n",
       "      <td>VS2</td>\n",
       "      <td>62.4</td>\n",
       "      <td>58.0</td>\n",
       "      <td>334</td>\n",
       "      <td>4.20</td>\n",
       "      <td>4.23</td>\n",
       "      <td>2.63</td>\n",
       "    </tr>\n",
       "    <tr>\n",
       "      <th>4</th>\n",
       "      <td>0.31</td>\n",
       "      <td>Good</td>\n",
       "      <td>J</td>\n",
       "      <td>SI2</td>\n",
       "      <td>63.3</td>\n",
       "      <td>58.0</td>\n",
       "      <td>335</td>\n",
       "      <td>4.34</td>\n",
       "      <td>4.35</td>\n",
       "      <td>2.75</td>\n",
       "    </tr>\n",
       "  </tbody>\n",
       "</table>\n",
       "</div>"
      ],
      "text/plain": [
       "   Carat(Weight of Daimond) Cut(Quality) Color Clarity  Depth  Table  \\\n",
       "0                      0.23        Ideal     E     SI2   61.5   55.0   \n",
       "1                      0.21      Premium     E     SI1   59.8   61.0   \n",
       "2                      0.23         Good     E     VS1   56.9   65.0   \n",
       "3                      0.29      Premium     I     VS2   62.4   58.0   \n",
       "4                      0.31         Good     J     SI2   63.3   58.0   \n",
       "\n",
       "   Price(in US dollars)  X(length)  Y(width)  Z(Depth)  \n",
       "0                   326       3.95      3.98      2.43  \n",
       "1                   326       3.89      3.84      2.31  \n",
       "2                   327       4.05      4.07      2.31  \n",
       "3                   334       4.20      4.23      2.63  \n",
       "4                   335       4.34      4.35      2.75  "
      ]
     },
     "execution_count": 18,
     "metadata": {},
     "output_type": "execute_result"
    }
   ],
   "source": [
    "data.head()"
   ]
  },
  {
   "cell_type": "code",
   "execution_count": 19,
   "id": "eb361afd",
   "metadata": {},
   "outputs": [
    {
     "name": "stdout",
     "output_type": "stream",
     "text": [
      "Index(['weight', 'quality', 'color', 'clarity', 'depth', 'flat surface (top)',\n",
      "       'price', 'length', 'width'],\n",
      "      dtype='object')\n"
     ]
    }
   ],
   "source": [
    "# Changing misspelled first feature and other features\n",
    "new_columns = {\"Carat(Weight of Daimond)\":\"weight\", 'Cut(Quality)':'quality', 'Color':\"color\", 'Clarity':\"clarity\", \"Depth\":\"depth\",'Table':\"flat surface (top)\", \"Price(in US dollars)\":'price', \"X(length)\": \"length\", \"Y(width)\":\"width\"}\n",
    "data = data.rename(columns=new_columns)\n",
    "data = data.drop(\"Z(Depth)\", axis=1)\n",
    "print(data.columns)"
   ]
  },
  {
   "cell_type": "code",
   "execution_count": 20,
   "id": "f998dcd3",
   "metadata": {
    "scrolled": true
   },
   "outputs": [
    {
     "name": "stdout",
     "output_type": "stream",
     "text": [
      "<class 'pandas.core.frame.DataFrame'>\n",
      "RangeIndex: 53940 entries, 0 to 53939\n",
      "Data columns (total 9 columns):\n",
      " #   Column              Non-Null Count  Dtype  \n",
      "---  ------              --------------  -----  \n",
      " 0   weight              53940 non-null  float64\n",
      " 1   quality             53940 non-null  object \n",
      " 2   color               53940 non-null  object \n",
      " 3   clarity             53940 non-null  object \n",
      " 4   depth               53940 non-null  float64\n",
      " 5   flat surface (top)  53940 non-null  float64\n",
      " 6   price               53940 non-null  int64  \n",
      " 7   length              53940 non-null  float64\n",
      " 8   width               53940 non-null  float64\n",
      "dtypes: float64(5), int64(1), object(3)\n",
      "memory usage: 3.7+ MB\n"
     ]
    }
   ],
   "source": [
    "# What data types are we dealing with\n",
    "data.info()"
   ]
  },
  {
   "cell_type": "markdown",
   "id": "2e2f202b",
   "metadata": {},
   "source": [
    "### Data cleaning"
   ]
  },
  {
   "cell_type": "code",
   "execution_count": 21,
   "id": "6093ff27",
   "metadata": {},
   "outputs": [
    {
     "name": "stdout",
     "output_type": "stream",
     "text": [
      "<class 'pandas.core.frame.DataFrame'>\n",
      "RangeIndex: 53940 entries, 0 to 53939\n",
      "Data columns (total 9 columns):\n",
      " #   Column              Non-Null Count  Dtype   \n",
      "---  ------              --------------  -----   \n",
      " 0   weight              53940 non-null  float64 \n",
      " 1   quality             53940 non-null  category\n",
      " 2   color               53940 non-null  category\n",
      " 3   clarity             53940 non-null  category\n",
      " 4   depth               53940 non-null  float64 \n",
      " 5   flat surface (top)  53940 non-null  float64 \n",
      " 6   price               53940 non-null  float64 \n",
      " 7   length              53940 non-null  float64 \n",
      " 8   width               53940 non-null  float64 \n",
      "dtypes: category(3), float64(6)\n",
      "memory usage: 2.6 MB\n"
     ]
    }
   ],
   "source": [
    "# Changing dtypes of all features\n",
    "data['price'] = data['price'].astype('float64')\n",
    "data['quality'] = data['quality'].astype('category')\n",
    "data['color'] = data['color'].astype('category')\n",
    "data['clarity'] = data['clarity'].astype('category')\n",
    "data.info()"
   ]
  },
  {
   "cell_type": "markdown",
   "id": "d8047e25-e628-400f-a5e8-28fd548d4e64",
   "metadata": {},
   "source": [
    "### Exploring the descriptive statistics of the variables"
   ]
  },
  {
   "cell_type": "code",
   "execution_count": 22,
   "id": "8867976d",
   "metadata": {},
   "outputs": [
    {
     "data": {
      "text/html": [
       "<div>\n",
       "<style scoped>\n",
       "    .dataframe tbody tr th:only-of-type {\n",
       "        vertical-align: middle;\n",
       "    }\n",
       "\n",
       "    .dataframe tbody tr th {\n",
       "        vertical-align: top;\n",
       "    }\n",
       "\n",
       "    .dataframe thead th {\n",
       "        text-align: right;\n",
       "    }\n",
       "</style>\n",
       "<table border=\"1\" class=\"dataframe\">\n",
       "  <thead>\n",
       "    <tr style=\"text-align: right;\">\n",
       "      <th></th>\n",
       "      <th>weight</th>\n",
       "      <th>quality</th>\n",
       "      <th>color</th>\n",
       "      <th>clarity</th>\n",
       "      <th>depth</th>\n",
       "      <th>flat surface (top)</th>\n",
       "      <th>price</th>\n",
       "      <th>length</th>\n",
       "      <th>width</th>\n",
       "    </tr>\n",
       "  </thead>\n",
       "  <tbody>\n",
       "    <tr>\n",
       "      <th>count</th>\n",
       "      <td>53940.000000</td>\n",
       "      <td>53940</td>\n",
       "      <td>53940</td>\n",
       "      <td>53940</td>\n",
       "      <td>53940.000000</td>\n",
       "      <td>53940.000000</td>\n",
       "      <td>53940.000000</td>\n",
       "      <td>53940.000000</td>\n",
       "      <td>53940.000000</td>\n",
       "    </tr>\n",
       "    <tr>\n",
       "      <th>unique</th>\n",
       "      <td>NaN</td>\n",
       "      <td>5</td>\n",
       "      <td>7</td>\n",
       "      <td>8</td>\n",
       "      <td>NaN</td>\n",
       "      <td>NaN</td>\n",
       "      <td>NaN</td>\n",
       "      <td>NaN</td>\n",
       "      <td>NaN</td>\n",
       "    </tr>\n",
       "    <tr>\n",
       "      <th>top</th>\n",
       "      <td>NaN</td>\n",
       "      <td>Ideal</td>\n",
       "      <td>G</td>\n",
       "      <td>SI1</td>\n",
       "      <td>NaN</td>\n",
       "      <td>NaN</td>\n",
       "      <td>NaN</td>\n",
       "      <td>NaN</td>\n",
       "      <td>NaN</td>\n",
       "    </tr>\n",
       "    <tr>\n",
       "      <th>freq</th>\n",
       "      <td>NaN</td>\n",
       "      <td>21551</td>\n",
       "      <td>11292</td>\n",
       "      <td>13065</td>\n",
       "      <td>NaN</td>\n",
       "      <td>NaN</td>\n",
       "      <td>NaN</td>\n",
       "      <td>NaN</td>\n",
       "      <td>NaN</td>\n",
       "    </tr>\n",
       "    <tr>\n",
       "      <th>mean</th>\n",
       "      <td>0.797940</td>\n",
       "      <td>NaN</td>\n",
       "      <td>NaN</td>\n",
       "      <td>NaN</td>\n",
       "      <td>61.749405</td>\n",
       "      <td>57.457184</td>\n",
       "      <td>3932.799722</td>\n",
       "      <td>5.731157</td>\n",
       "      <td>5.734526</td>\n",
       "    </tr>\n",
       "    <tr>\n",
       "      <th>std</th>\n",
       "      <td>0.474011</td>\n",
       "      <td>NaN</td>\n",
       "      <td>NaN</td>\n",
       "      <td>NaN</td>\n",
       "      <td>1.432621</td>\n",
       "      <td>2.234491</td>\n",
       "      <td>3989.439738</td>\n",
       "      <td>1.121761</td>\n",
       "      <td>1.142135</td>\n",
       "    </tr>\n",
       "    <tr>\n",
       "      <th>min</th>\n",
       "      <td>0.200000</td>\n",
       "      <td>NaN</td>\n",
       "      <td>NaN</td>\n",
       "      <td>NaN</td>\n",
       "      <td>43.000000</td>\n",
       "      <td>43.000000</td>\n",
       "      <td>326.000000</td>\n",
       "      <td>0.000000</td>\n",
       "      <td>0.000000</td>\n",
       "    </tr>\n",
       "    <tr>\n",
       "      <th>25%</th>\n",
       "      <td>0.400000</td>\n",
       "      <td>NaN</td>\n",
       "      <td>NaN</td>\n",
       "      <td>NaN</td>\n",
       "      <td>61.000000</td>\n",
       "      <td>56.000000</td>\n",
       "      <td>950.000000</td>\n",
       "      <td>4.710000</td>\n",
       "      <td>4.720000</td>\n",
       "    </tr>\n",
       "    <tr>\n",
       "      <th>50%</th>\n",
       "      <td>0.700000</td>\n",
       "      <td>NaN</td>\n",
       "      <td>NaN</td>\n",
       "      <td>NaN</td>\n",
       "      <td>61.800000</td>\n",
       "      <td>57.000000</td>\n",
       "      <td>2401.000000</td>\n",
       "      <td>5.700000</td>\n",
       "      <td>5.710000</td>\n",
       "    </tr>\n",
       "    <tr>\n",
       "      <th>75%</th>\n",
       "      <td>1.040000</td>\n",
       "      <td>NaN</td>\n",
       "      <td>NaN</td>\n",
       "      <td>NaN</td>\n",
       "      <td>62.500000</td>\n",
       "      <td>59.000000</td>\n",
       "      <td>5324.250000</td>\n",
       "      <td>6.540000</td>\n",
       "      <td>6.540000</td>\n",
       "    </tr>\n",
       "    <tr>\n",
       "      <th>max</th>\n",
       "      <td>5.010000</td>\n",
       "      <td>NaN</td>\n",
       "      <td>NaN</td>\n",
       "      <td>NaN</td>\n",
       "      <td>79.000000</td>\n",
       "      <td>95.000000</td>\n",
       "      <td>18823.000000</td>\n",
       "      <td>10.740000</td>\n",
       "      <td>58.900000</td>\n",
       "    </tr>\n",
       "  </tbody>\n",
       "</table>\n",
       "</div>"
      ],
      "text/plain": [
       "              weight quality  color clarity         depth  flat surface (top)  \\\n",
       "count   53940.000000   53940  53940   53940  53940.000000        53940.000000   \n",
       "unique           NaN       5      7       8           NaN                 NaN   \n",
       "top              NaN   Ideal      G     SI1           NaN                 NaN   \n",
       "freq             NaN   21551  11292   13065           NaN                 NaN   \n",
       "mean        0.797940     NaN    NaN     NaN     61.749405           57.457184   \n",
       "std         0.474011     NaN    NaN     NaN      1.432621            2.234491   \n",
       "min         0.200000     NaN    NaN     NaN     43.000000           43.000000   \n",
       "25%         0.400000     NaN    NaN     NaN     61.000000           56.000000   \n",
       "50%         0.700000     NaN    NaN     NaN     61.800000           57.000000   \n",
       "75%         1.040000     NaN    NaN     NaN     62.500000           59.000000   \n",
       "max         5.010000     NaN    NaN     NaN     79.000000           95.000000   \n",
       "\n",
       "               price        length         width  \n",
       "count   53940.000000  53940.000000  53940.000000  \n",
       "unique           NaN           NaN           NaN  \n",
       "top              NaN           NaN           NaN  \n",
       "freq             NaN           NaN           NaN  \n",
       "mean     3932.799722      5.731157      5.734526  \n",
       "std      3989.439738      1.121761      1.142135  \n",
       "min       326.000000      0.000000      0.000000  \n",
       "25%       950.000000      4.710000      4.720000  \n",
       "50%      2401.000000      5.700000      5.710000  \n",
       "75%      5324.250000      6.540000      6.540000  \n",
       "max     18823.000000     10.740000     58.900000  "
      ]
     },
     "execution_count": 22,
     "metadata": {},
     "output_type": "execute_result"
    }
   ],
   "source": [
    "# Check descriptive statistics of all variables\n",
    "data.describe(include='all')"
   ]
  },
  {
   "cell_type": "markdown",
   "id": "b3264346",
   "metadata": {},
   "source": [
    "### Determining variables of interest"
   ]
  },
  {
   "cell_type": "code",
   "execution_count": 26,
   "id": "c5da6eac",
   "metadata": {},
   "outputs": [
    {
     "data": {
      "text/plain": [
       "326.0      2\n",
       "327.0      1\n",
       "334.0      1\n",
       "335.0      1\n",
       "336.0      2\n",
       "          ..\n",
       "18803.0    1\n",
       "18804.0    1\n",
       "18806.0    1\n",
       "18818.0    1\n",
       "18823.0    1\n",
       "Name: price, Length: 11602, dtype: int64"
      ]
     },
     "execution_count": 26,
     "metadata": {},
     "output_type": "execute_result"
    }
   ],
   "source": [
    "price = data.price\n",
    "price.value_counts().sort_index()"
   ]
  },
  {
   "cell_type": "code",
   "execution_count": 27,
   "id": "9291354f",
   "metadata": {},
   "outputs": [
    {
     "data": {
      "text/plain": [
       "count    53940.000000\n",
       "mean      3932.799722\n",
       "std       3989.439738\n",
       "min        326.000000\n",
       "25%        950.000000\n",
       "50%       2401.000000\n",
       "75%       5324.250000\n",
       "max      18823.000000\n",
       "Name: price, dtype: float64"
      ]
     },
     "execution_count": 27,
     "metadata": {},
     "output_type": "execute_result"
    }
   ],
   "source": [
    "price.describe()"
   ]
  },
  {
   "cell_type": "markdown",
   "id": "5f4ad60d",
   "metadata": {},
   "source": [
    "### Dealing with missing values"
   ]
  },
  {
   "cell_type": "code",
   "execution_count": 28,
   "id": "6dc6c63b",
   "metadata": {},
   "outputs": [
    {
     "data": {
      "text/plain": [
       "weight                0\n",
       "quality               0\n",
       "color                 0\n",
       "clarity               0\n",
       "depth                 0\n",
       "flat surface (top)    0\n",
       "price                 0\n",
       "length                0\n",
       "width                 0\n",
       "dtype: int64"
      ]
     },
     "execution_count": 28,
     "metadata": {},
     "output_type": "execute_result"
    }
   ],
   "source": [
    "# Check for NAs\n",
    "data.isnull().sum()"
   ]
  },
  {
   "cell_type": "markdown",
   "id": "b1260d7d",
   "metadata": {},
   "source": [
    "We can see that the lowest prices start at 326.00 in US dollars with 2 observations of that amount and can raise all the way up to 18823.00 in US dollars with 1 observation at that amount."
   ]
  },
  {
   "cell_type": "markdown",
   "id": "93b888e9",
   "metadata": {},
   "source": [
    "We can see here that the description for diamond prices matches the values we looked at prior along with other helpful calculations."
   ]
  },
  {
   "cell_type": "markdown",
   "id": "7af64899",
   "metadata": {},
   "source": [
    "### Exploring PDFs"
   ]
  },
  {
   "cell_type": "markdown",
   "id": "20369931-34cf-4d34-ab2a-7e2dc9e3e18b",
   "metadata": {
    "tags": []
   },
   "source": [
    "#### Numerical features"
   ]
  },
  {
   "cell_type": "code",
   "execution_count": 37,
   "id": "e921d234",
   "metadata": {},
   "outputs": [
    {
     "data": {
      "image/png": "[encoded data removed]",
      "text/plain": [
       "<Figure size 432x288 with 1 Axes>"
      ]
     },
     "metadata": {},
     "output_type": "display_data"
    }
   ],
   "source": [
    "# Plotting `price`\n",
    "sns.distplot(data.price,\n",
    "             kde=False,\n",
    "             color='b')\n",
    "\n",
    "sns.despine()"
   ]
  },
  {
   "cell_type": "markdown",
   "id": "5c3d73b7",
   "metadata": {},
   "source": [
    "From the histogram that was plotted, we can see data points for the `price` feature are skewed to the right and are of an exponential distribution. This makes sense as diamonds are a luxery item and the more expensive they are the less of them are usually kept on hand. Essentially, the bulk of the group should be toward the cheaper prices as it is cheaper to keep those type of diamonds in bulk. However, this will be a problem for a regression model if not managed effectively."
   ]
  },
  {
   "cell_type": "code",
   "execution_count": 38,
   "id": "f4a1f8fe",
   "metadata": {},
   "outputs": [
    {
     "data": {
      "text/html": [
       "<div>\n",
       "<style scoped>\n",
       "    .dataframe tbody tr th:only-of-type {\n",
       "        vertical-align: middle;\n",
       "    }\n",
       "\n",
       "    .dataframe tbody tr th {\n",
       "        vertical-align: top;\n",
       "    }\n",
       "\n",
       "    .dataframe thead th {\n",
       "        text-align: right;\n",
       "    }\n",
       "</style>\n",
       "<table border=\"1\" class=\"dataframe\">\n",
       "  <thead>\n",
       "    <tr style=\"text-align: right;\">\n",
       "      <th></th>\n",
       "      <th>weight</th>\n",
       "      <th>quality</th>\n",
       "      <th>color</th>\n",
       "      <th>clarity</th>\n",
       "      <th>depth</th>\n",
       "      <th>flat surface (top)</th>\n",
       "      <th>price</th>\n",
       "      <th>length</th>\n",
       "      <th>width</th>\n",
       "    </tr>\n",
       "  </thead>\n",
       "  <tbody>\n",
       "    <tr>\n",
       "      <th>count</th>\n",
       "      <td>53400.000000</td>\n",
       "      <td>53400</td>\n",
       "      <td>53400</td>\n",
       "      <td>53400</td>\n",
       "      <td>53400.000000</td>\n",
       "      <td>53400.000000</td>\n",
       "      <td>53400.000000</td>\n",
       "      <td>53400.000000</td>\n",
       "      <td>53400.000000</td>\n",
       "    </tr>\n",
       "    <tr>\n",
       "      <th>unique</th>\n",
       "      <td>NaN</td>\n",
       "      <td>5</td>\n",
       "      <td>7</td>\n",
       "      <td>8</td>\n",
       "      <td>NaN</td>\n",
       "      <td>NaN</td>\n",
       "      <td>NaN</td>\n",
       "      <td>NaN</td>\n",
       "      <td>NaN</td>\n",
       "    </tr>\n",
       "    <tr>\n",
       "      <th>top</th>\n",
       "      <td>NaN</td>\n",
       "      <td>Ideal</td>\n",
       "      <td>G</td>\n",
       "      <td>SI1</td>\n",
       "      <td>NaN</td>\n",
       "      <td>NaN</td>\n",
       "      <td>NaN</td>\n",
       "      <td>NaN</td>\n",
       "      <td>NaN</td>\n",
       "    </tr>\n",
       "    <tr>\n",
       "      <th>freq</th>\n",
       "      <td>NaN</td>\n",
       "      <td>21374</td>\n",
       "      <td>11181</td>\n",
       "      <td>12908</td>\n",
       "      <td>NaN</td>\n",
       "      <td>NaN</td>\n",
       "      <td>NaN</td>\n",
       "      <td>NaN</td>\n",
       "      <td>NaN</td>\n",
       "    </tr>\n",
       "    <tr>\n",
       "      <th>mean</th>\n",
       "      <td>0.785232</td>\n",
       "      <td>NaN</td>\n",
       "      <td>NaN</td>\n",
       "      <td>NaN</td>\n",
       "      <td>61.751309</td>\n",
       "      <td>57.451927</td>\n",
       "      <td>3789.670019</td>\n",
       "      <td>5.707014</td>\n",
       "      <td>5.710480</td>\n",
       "    </tr>\n",
       "    <tr>\n",
       "      <th>std</th>\n",
       "      <td>0.457807</td>\n",
       "      <td>NaN</td>\n",
       "      <td>NaN</td>\n",
       "      <td>NaN</td>\n",
       "      <td>1.430903</td>\n",
       "      <td>2.234943</td>\n",
       "      <td>3745.471684</td>\n",
       "      <td>1.099793</td>\n",
       "      <td>1.121011</td>\n",
       "    </tr>\n",
       "    <tr>\n",
       "      <th>min</th>\n",
       "      <td>0.200000</td>\n",
       "      <td>NaN</td>\n",
       "      <td>NaN</td>\n",
       "      <td>NaN</td>\n",
       "      <td>43.000000</td>\n",
       "      <td>43.000000</td>\n",
       "      <td>326.000000</td>\n",
       "      <td>0.000000</td>\n",
       "      <td>0.000000</td>\n",
       "    </tr>\n",
       "    <tr>\n",
       "      <th>25%</th>\n",
       "      <td>0.400000</td>\n",
       "      <td>NaN</td>\n",
       "      <td>NaN</td>\n",
       "      <td>NaN</td>\n",
       "      <td>61.000000</td>\n",
       "      <td>56.000000</td>\n",
       "      <td>945.000000</td>\n",
       "      <td>4.710000</td>\n",
       "      <td>4.720000</td>\n",
       "    </tr>\n",
       "    <tr>\n",
       "      <th>50%</th>\n",
       "      <td>0.700000</td>\n",
       "      <td>NaN</td>\n",
       "      <td>NaN</td>\n",
       "      <td>NaN</td>\n",
       "      <td>61.800000</td>\n",
       "      <td>57.000000</td>\n",
       "      <td>2372.000000</td>\n",
       "      <td>5.680000</td>\n",
       "      <td>5.700000</td>\n",
       "    </tr>\n",
       "    <tr>\n",
       "      <th>75%</th>\n",
       "      <td>1.030000</td>\n",
       "      <td>NaN</td>\n",
       "      <td>NaN</td>\n",
       "      <td>NaN</td>\n",
       "      <td>62.500000</td>\n",
       "      <td>59.000000</td>\n",
       "      <td>5219.000000</td>\n",
       "      <td>6.520000</td>\n",
       "      <td>6.520000</td>\n",
       "    </tr>\n",
       "    <tr>\n",
       "      <th>max</th>\n",
       "      <td>4.130000</td>\n",
       "      <td>NaN</td>\n",
       "      <td>NaN</td>\n",
       "      <td>NaN</td>\n",
       "      <td>79.000000</td>\n",
       "      <td>95.000000</td>\n",
       "      <td>17377.000000</td>\n",
       "      <td>10.140000</td>\n",
       "      <td>58.900000</td>\n",
       "    </tr>\n",
       "  </tbody>\n",
       "</table>\n",
       "</div>"
      ],
      "text/plain": [
       "              weight quality  color clarity         depth  flat surface (top)  \\\n",
       "count   53400.000000   53400  53400   53400  53400.000000        53400.000000   \n",
       "unique           NaN       5      7       8           NaN                 NaN   \n",
       "top              NaN   Ideal      G     SI1           NaN                 NaN   \n",
       "freq             NaN   21374  11181   12908           NaN                 NaN   \n",
       "mean        0.785232     NaN    NaN     NaN     61.751309           57.451927   \n",
       "std         0.457807     NaN    NaN     NaN      1.430903            2.234943   \n",
       "min         0.200000     NaN    NaN     NaN     43.000000           43.000000   \n",
       "25%         0.400000     NaN    NaN     NaN     61.000000           56.000000   \n",
       "50%         0.700000     NaN    NaN     NaN     61.800000           57.000000   \n",
       "75%         1.030000     NaN    NaN     NaN     62.500000           59.000000   \n",
       "max         4.130000     NaN    NaN     NaN     79.000000           95.000000   \n",
       "\n",
       "               price        length         width  \n",
       "count   53400.000000  53400.000000  53400.000000  \n",
       "unique           NaN           NaN           NaN  \n",
       "top              NaN           NaN           NaN  \n",
       "freq             NaN           NaN           NaN  \n",
       "mean     3789.670019      5.707014      5.710480  \n",
       "std      3745.471684      1.099793      1.121011  \n",
       "min       326.000000      0.000000      0.000000  \n",
       "25%       945.000000      4.710000      4.720000  \n",
       "50%      2372.000000      5.680000      5.700000  \n",
       "75%      5219.000000      6.520000      6.520000  \n",
       "max     17377.000000     10.140000     58.900000  "
      ]
     },
     "execution_count": 38,
     "metadata": {},
     "output_type": "execute_result"
    }
   ],
   "source": [
    "# Deal with outliers\n",
    "q = price.quantile(0.99)\n",
    "data2 = data[price < q]\n",
    "data2.describe(include='all')"
   ]
  },
  {
   "cell_type": "code",
   "execution_count": 48,
   "id": "a4a56d1d",
   "metadata": {},
   "outputs": [
    {
     "data": {
      "image/png": "[encoded data removed]",
      "text/plain": [
       "<Figure size 432x288 with 1 Axes>"
      ]
     },
     "metadata": {},
     "output_type": "display_data"
    }
   ],
   "source": [
    "# Replot new distribution\n",
    "sns.distplot(data2.price,\n",
    "             kde=True,\n",
    "             color='b')\n",
    "sns.despine()"
   ]
  },
  {
   "cell_type": "code",
   "execution_count": 49,
   "id": "b381a139-0797-49c4-9bac-56476782f678",
   "metadata": {},
   "outputs": [
    {
     "data": {
      "image/png": "[encoded data removed]",
      "text/plain": [
       "<Figure size 432x288 with 1 Axes>"
      ]
     },
     "metadata": {},
     "output_type": "display_data"
    }
   ],
   "source": [
    "# Plot `weight`\n",
    "sns.distplot(data2.weight,\n",
    "             kde=False,\n",
    "             color='b')\n",
    "sns.despine()"
   ]
  },
  {
   "cell_type": "markdown",
   "id": "80db78df-fdda-4c09-bf70-1f87b71dc19b",
   "metadata": {},
   "source": [
    "After plotting `weight`, it appears the observations are slightly skewed to the right but not as severe as the price feature."
   ]
  },
  {
   "cell_type": "code",
   "execution_count": 55,
   "id": "e43e593e-1455-4033-b289-a3816c7e6f6f",
   "metadata": {},
   "outputs": [
    {
     "data": {
      "image/png": "[encoded data removed]",
      "text/plain": [
       "<Figure size 432x288 with 1 Axes>"
      ]
     },
     "metadata": {},
     "output_type": "display_data"
    }
   ],
   "source": [
    "# Plot `depth`\n",
    "sns.distplot(data2.depth,\n",
    "             kde=False,\n",
    "             color='b')\n",
    "sns.despine()"
   ]
  },
  {
   "cell_type": "markdown",
   "id": "10cc0651-7041-451f-bd2b-d6bb1dff3036",
   "metadata": {},
   "source": [
    "The `depth` feature is the first feature that appears to automatically follow a normal distribution."
   ]
  },
  {
   "cell_type": "code",
   "execution_count": 56,
   "id": "72d55f5a-7dc4-4b66-9968-f39f0884c2e2",
   "metadata": {},
   "outputs": [
    {
     "data": {
      "image/png": "[encoded data removed]",
      "text/plain": [
       "<Figure size 432x288 with 1 Axes>"
      ]
     },
     "metadata": {},
     "output_type": "display_data"
    }
   ],
   "source": [
    "# Plot `length`\n",
    "sns.distplot(data2.length,\n",
    "             kde=False,\n",
    "             color='b')\n",
    "sns.despine()"
   ]
  },
  {
   "cell_type": "markdown",
   "id": "3daf5c33-79d8-4699-b9a0-56282a64a800",
   "metadata": {},
   "source": [
    "The `length` feature appears to possibly follow a normal distribution."
   ]
  },
  {
   "cell_type": "code",
   "execution_count": 57,
   "id": "d1d96cab-72f0-42c1-b4cb-eaa075cd8169",
   "metadata": {},
   "outputs": [
    {
     "data": {
      "image/png": "[encoded data removed]",
      "text/plain": [
       "<Figure size 432x288 with 1 Axes>"
      ]
     },
     "metadata": {},
     "output_type": "display_data"
    }
   ],
   "source": [
    "# Plot `width`\n",
    "sns.distplot(data2.width,\n",
    "             kde=False,\n",
    "             color='b')\n",
    "sns.despine()"
   ]
  },
  {
   "cell_type": "markdown",
   "id": "f0f63695-e57c-4614-bf50-286faeb4da1d",
   "metadata": {},
   "source": [
    "The `width` feature might need to be transformed for further analysis."
   ]
  },
  {
   "cell_type": "markdown",
   "id": "a96a8383-822b-4a92-9f09-a4b92f6434a2",
   "metadata": {},
   "source": [
    "# Notes"
   ]
  },
  {
   "cell_type": "code",
   "execution_count": 58,
   "id": "0bfc7f0a",
   "metadata": {},
   "outputs": [
    {
     "data": {
      "image/png": "[encoded data removed]",
      "text/plain": [
       "<Figure size 432x288 with 1 Axes>"
      ]
     },
     "metadata": {},
     "output_type": "display_data"
    }
   ],
   "source": [
    "# Transform the distribution using log\n",
    "sns.distplot(np.log(data.price),\n",
    "             bins=30,\n",
    "             color='b')\n",
    "\n",
    "sns.despine()"
   ]
  },
  {
   "cell_type": "markdown",
   "id": "3d552b22",
   "metadata": {},
   "source": [
    "After transforming the price feature, it appears the distribution is bimodal due to having two groups of its highest peaks."
   ]
  }
 ],
 "metadata": {
  "kernelspec": {
   "display_name": "Python 3 (ipykernel)",
   "language": "python",
   "name": "python3"
  },
  "language_info": {
   "codemirror_mode": {
    "name": "ipython",
    "version": 3
   },
   "file_extension": ".py",
   "mimetype": "text/x-python",
   "name": "python",
   "nbconvert_exporter": "python",
   "pygments_lexer": "ipython3",
   "version": "3.9.7"
  }
 },
 "nbformat": 4,
 "nbformat_minor": 5
}
